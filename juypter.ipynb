{
 "cells": [
  {
   "cell_type": "code",
   "execution_count": null,
   "id": "e4019b71",
   "metadata": {},
   "outputs": [
    {
     "name": "stdout",
     "output_type": "stream",
     "text": [
      "mateti sai pranay \n"
     ]
    }
   ],
   "source": [
    "print(\"mateti sai pranay \")\n",
    "print()"
   ]
  },
  {
   "cell_type": "markdown",
   "id": "99fba6af",
   "metadata": {},
   "source": [
    "Stock Price Profit Calculator\n",
    "Given a list of daily stock prices, return the maximum profit you could achieve by buying and selling once."
   ]
  },
  {
   "cell_type": "code",
   "execution_count": 2,
   "id": "970789d7",
   "metadata": {},
   "outputs": [
    {
     "name": "stdout",
     "output_type": "stream",
     "text": [
      "5\n",
      "0\n"
     ]
    }
   ],
   "source": [
    "def max_profit_once(prices):\n",
    "    if not prices:\n",
    "        return 0 \n",
    "    min_price = prices[0]\n",
    "    best = 0 \n",
    "    for p in prices:\n",
    "        best = max(best , p - min_price) # sell price \n",
    "        min_price = min(min_price, p) # buy price\n",
    "    return best\n",
    "print(max_profit_once([7, 1, 5, 3, 6, 4])) # should return 5\n",
    "print(max_profit_once([7, 6, 4, 3, 1]) )"
   ]
  },
  {
   "cell_type": "code",
   "execution_count": null,
   "id": "475bc38f",
   "metadata": {},
   "outputs": [],
   "source": []
  }
 ],
 "metadata": {
  "kernelspec": {
   "display_name": "Python 3",
   "language": "python",
   "name": "python3"
  },
  "language_info": {
   "codemirror_mode": {
    "name": "ipython",
    "version": 3
   },
   "file_extension": ".py",
   "mimetype": "text/x-python",
   "name": "python",
   "nbconvert_exporter": "python",
   "pygments_lexer": "ipython3",
   "version": "3.12.1"
  }
 },
 "nbformat": 4,
 "nbformat_minor": 5
}
